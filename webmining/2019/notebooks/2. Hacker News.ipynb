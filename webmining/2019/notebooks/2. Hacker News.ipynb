{
 "cells": [
  {
   "cell_type": "markdown",
   "metadata": {},
   "source": [
    "# Scraper Hacker News"
   ]
  },
  {
   "cell_type": "code",
   "execution_count": 1,
   "metadata": {},
   "outputs": [],
   "source": [
    "# Dépendances\n",
    "import requests\n",
    "from bs4 import BeautifulSoup"
   ]
  },
  {
   "cell_type": "markdown",
   "metadata": {},
   "source": [
    "## Liste des choses à récupérer:\n",
    "\n",
    "* Url\n",
    "* Title\n",
    "* Author\n",
    "* Comments\n",
    "* Upvotes\n",
    "* Id"
   ]
  },
  {
   "cell_type": "markdown",
   "metadata": {},
   "source": [
    "## 1. Récupérer le HTML de la page"
   ]
  },
  {
   "cell_type": "code",
   "execution_count": 3,
   "metadata": {},
   "outputs": [],
   "source": [
    "r = requests.get('https://news.ycombinator.com/')"
   ]
  },
  {
   "cell_type": "markdown",
   "metadata": {},
   "source": [
    "## 2. Utiliser BeautifulSoup pour parser le HTML"
   ]
  },
  {
   "cell_type": "code",
   "execution_count": 4,
   "metadata": {},
   "outputs": [],
   "source": [
    "soup = BeautifulSoup(r.text)"
   ]
  },
  {
   "cell_type": "markdown",
   "metadata": {},
   "source": [
    "## 3. Extraire les informations"
   ]
  },
  {
   "cell_type": "code",
   "execution_count": 42,
   "metadata": {},
   "outputs": [],
   "source": [
    "data = []\n",
    "\n",
    "def get_comments(elem):\n",
    "    \"\"\"Retrieving number of comments from target sibling element.\"\"\"\n",
    "    txt = elem.get_text().strip()\n",
    "    \n",
    "    if txt == 'discuss':\n",
    "        return 0\n",
    "\n",
    "    return int(txt.split('comment')[0].strip())\n",
    "\n",
    "def get_user(elem):\n",
    "    \"\"\"Retrieving user id from target sibling element.\"\"\"\n",
    "    if elem is None:\n",
    "        return ''\n",
    "    \n",
    "    return elem.get_text().strip()\n",
    "\n",
    "for tr in soup.select('tr.athing'):\n",
    "    sibling = tr.find_next_sibling()\n",
    "    \n",
    "    link = tr.select_one('a.storylink')\n",
    "    \n",
    "    post = {\n",
    "        'id': tr.get('id'),\n",
    "        'url': link.get('href'),\n",
    "        'title': link.get_text(),\n",
    "        'points': int(sibling.select_one('.score').get_text().split(' points')[0].strip()),\n",
    "        'comments': get_comments(sibling.select('a')[-1]),\n",
    "        'author': get_user(sibling.select_one('a[href^=\"user?\"]'))\n",
    "    }\n",
    "    \n",
    "    data.append(post)"
   ]
  },
  {
   "cell_type": "markdown",
   "metadata": {},
   "source": [
    "## 4. Dump en json"
   ]
  },
  {
   "cell_type": "code",
   "execution_count": 43,
   "metadata": {},
   "outputs": [],
   "source": [
    "import json\n",
    "\n",
    "with open('./hackernews.json', 'w') as f:\n",
    "    json.dump(data, f, ensure_ascii=False, indent=2)"
   ]
  }
 ],
 "metadata": {
  "kernelspec": {
   "display_name": "Python 3",
   "language": "python",
   "name": "python3"
  },
  "language_info": {
   "codemirror_mode": {
    "name": "ipython",
    "version": 3
   },
   "file_extension": ".py",
   "mimetype": "text/x-python",
   "name": "python",
   "nbconvert_exporter": "python",
   "pygments_lexer": "ipython3",
   "version": "3.6.5"
  }
 },
 "nbformat": 4,
 "nbformat_minor": 2
}
