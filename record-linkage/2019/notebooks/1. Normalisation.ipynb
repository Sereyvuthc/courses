{
 "cells": [
  {
   "cell_type": "code",
   "execution_count": 1,
   "metadata": {},
   "outputs": [],
   "source": [
    "import re\n",
    "import csv\n",
    "from collections import defaultdict"
   ]
  },
  {
   "cell_type": "markdown",
   "metadata": {},
   "source": [
    "# Fonction de normalisation"
   ]
  },
  {
   "cell_type": "code",
   "execution_count": 2,
   "metadata": {},
   "outputs": [],
   "source": [
    "SQUEEZE_REGEX = r'\\s+'\n",
    "\n",
    "def normalize(s):\n",
    "    return re.sub(SQUEEZE_REGEX, ' ', s.lower().strip())"
   ]
  },
  {
   "cell_type": "code",
   "execution_count": 3,
   "metadata": {},
   "outputs": [
    {
     "data": {
      "text/plain": [
       "('dupond', 'dupond')"
      ]
     },
     "execution_count": 3,
     "metadata": {},
     "output_type": "execute_result"
    }
   ],
   "source": [
    "# Test\n",
    "normalize('Dupond'), normalize('DUPOND     ')"
   ]
  },
  {
   "cell_type": "markdown",
   "metadata": {},
   "source": [
    "# Clustering"
   ]
  },
  {
   "cell_type": "code",
   "execution_count": 4,
   "metadata": {},
   "outputs": [],
   "source": [
    "# Chargement du fichier\n",
    "with open('../data/dirty-musicians.csv') as f:\n",
    "    reader = csv.DictReader(f)\n",
    "    musicians = set(line['artist'] for line in reader)"
   ]
  },
  {
   "cell_type": "code",
   "execution_count": 9,
   "metadata": {},
   "outputs": [],
   "source": [
    "def clustering(strings):\n",
    "    groups = defaultdict(list)\n",
    "    \n",
    "    for s in strings:            \n",
    "        groups[normalize(s)].append(s)\n",
    "        \n",
    "    for cluster in groups.values():\n",
    "        if len(cluster) > 1:\n",
    "            yield cluster"
   ]
  },
  {
   "cell_type": "code",
   "execution_count": 10,
   "metadata": {
    "scrolled": true
   },
   "outputs": [
    {
     "name": "stdout",
     "output_type": "stream",
     "text": [
      "['Mr.CAP', 'Mr. CAP']\n",
      "['K.Michelle', 'K. Michelle']\n",
      "['Eric Taylor (Brazilian musician)', 'Eric Taylor (brazilian musician)']\n",
      "['Crucial star', 'Crucial Star']\n",
      "['K. S. Makhan', 'K.S. Makhan']\n",
      "['Dj many', 'DJ MANY']\n",
      "['Nick geezy', 'Nick Geezy']\n",
      "['Kim Jisoo (Singer)', 'Kim Jisoo (singer)']\n",
      "['Marian richero', 'Marian Richero', 'MARIAN RICHERO']\n",
      "['Salman Aditya', 'Salman aditya']\n",
      "['J.Trill', 'J. Trill']\n",
      "['B. Slade', 'B.Slade']\n",
      "['Shaun nedd', 'Shaun Nedd']\n",
      "['Von LMO', 'Von Lmo']\n",
      "['Black the Ripper', 'Black The Ripper']\n",
      "['SpaceGhostPurrp', 'Spaceghostpurrp']\n",
      "['Adrian lux', 'Adrian Lux']\n"
     ]
    }
   ],
   "source": [
    "# Test\n",
    "for cluster in clustering(musicians):\n",
    "    print(cluster)"
   ]
  }
 ],
 "metadata": {
  "kernelspec": {
   "display_name": "Python 3",
   "language": "python",
   "name": "python3"
  },
  "language_info": {
   "codemirror_mode": {
    "name": "ipython",
    "version": 3
   },
   "file_extension": ".py",
   "mimetype": "text/x-python",
   "name": "python",
   "nbconvert_exporter": "python",
   "pygments_lexer": "ipython3",
   "version": "3.6.5"
  }
 },
 "nbformat": 4,
 "nbformat_minor": 2
}
